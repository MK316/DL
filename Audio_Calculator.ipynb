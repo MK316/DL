{
  "nbformat": 4,
  "nbformat_minor": 0,
  "metadata": {
    "colab": {
      "private_outputs": true,
      "provenance": [],
      "authorship_tag": "ABX9TyM/qjnd6TQKbLPabX7elV9P",
      "include_colab_link": true
    },
    "kernelspec": {
      "name": "python3",
      "display_name": "Python 3"
    },
    "language_info": {
      "name": "python"
    }
  },
  "cells": [
    {
      "cell_type": "markdown",
      "metadata": {
        "id": "view-in-github",
        "colab_type": "text"
      },
      "source": [
        "<a href=\"https://colab.research.google.com/github/MK316/DL/blob/main/Audio_Calculator.ipynb\" target=\"_parent\"><img src=\"https://colab.research.google.com/assets/colab-badge.svg\" alt=\"Open In Colab\"/></a>"
      ]
    },
    {
      "cell_type": "markdown",
      "source": [
        "# Multiplications"
      ],
      "metadata": {
        "id": "Mf3m404rTKFn"
      }
    },
    {
      "cell_type": "code",
      "source": [
        "%%capture\n",
        "!pip install -q gradio\n",
        "!pip install gtts"
      ],
      "metadata": {
        "id": "Vc1CXrOST0WF"
      },
      "execution_count": null,
      "outputs": []
    },
    {
      "cell_type": "code",
      "source": [
        "import gradio as gr\n",
        "from gtts import gTTS\n",
        "from tempfile import NamedTemporaryFile\n",
        "\n",
        "# Define a function to perform the calculation and return the spoken result\n",
        "def calculate_and_speak(number1, number2, operation):\n",
        "    if operation == 'Add':\n",
        "        result = number1 + number2\n",
        "    elif operation == 'Subtract':\n",
        "        result = number1 - number2\n",
        "    elif operation == 'Multiply':\n",
        "        result = number1 * number2\n",
        "    elif operation == 'Divide':\n",
        "        # Prevent division by zero\n",
        "        result = 'undefined' if number2 == 0 else number1 / number2\n",
        "\n",
        "    if isinstance(result, float) and result.is_integer():\n",
        "        result = int(result)  # Convert to integer if the result is a whole number\n",
        "\n",
        "    # Format the result for speech output\n",
        "    result_text = \"The result is {}\".format(result)\n",
        "\n",
        "    # Convert the result text to speech using gtts\n",
        "    tts = gTTS(result_text, lang='en')\n",
        "    tts_file = NamedTemporaryFile(delete=False, suffix='.mp3')\n",
        "    tts.save(tts_file.name)\n",
        "\n",
        "    return tts_file.name\n",
        "\n",
        "# Define the inputs and outputs for the Gradio interface\n",
        "inputs = [\n",
        "    gr.Number(label=\"First Number\"),\n",
        "    gr.Number(label=\"Second Number\"),\n",
        "    gr.Radio([\"Add\", \"Subtract\", \"Multiply\", \"Divide\"], label=\"Operation\")\n",
        "]\n",
        "\n",
        "# Create the Gradio interface\n",
        "iface = gr.Interface(\n",
        "    fn=calculate_and_speak,\n",
        "    inputs=inputs,\n",
        "    outputs=gr.Audio(label=\"Listen to the result\")\n",
        ")\n",
        "\n",
        "# Launch the Gradio app with share=True to create a shareable link\n",
        "iface.launch(share=True)\n"
      ],
      "metadata": {
        "id": "Yq_Vg0MsTL-p"
      },
      "execution_count": null,
      "outputs": []
    }
  ]
}