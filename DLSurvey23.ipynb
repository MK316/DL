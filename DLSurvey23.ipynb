{
  "nbformat": 4,
  "nbformat_minor": 0,
  "metadata": {
    "colab": {
      "private_outputs": true,
      "provenance": [],
      "authorship_tag": "ABX9TyOX3flQmBZ1/c1L3LlrI6Rd",
      "include_colab_link": true
    },
    "kernelspec": {
      "name": "python3",
      "display_name": "Python 3"
    },
    "language_info": {
      "name": "python"
    }
  },
  "cells": [
    {
      "cell_type": "markdown",
      "metadata": {
        "id": "view-in-github",
        "colab_type": "text"
      },
      "source": [
        "<a href=\"https://colab.research.google.com/github/MK316/DL/blob/main/DLSurvey23.ipynb\" target=\"_parent\"><img src=\"https://colab.research.google.com/assets/colab-badge.svg\" alt=\"Open In Colab\"/></a>"
      ]
    },
    {
      "cell_type": "markdown",
      "source": [
        "# Digital Literacy Survey"
      ],
      "metadata": {
        "id": "-g9knLkrtxTt"
      }
    },
    {
      "cell_type": "markdown",
      "source": [
        "QR code to generate: [Survey Link](https://forms.gle/Yq8vsyNMfvnbzjy87)"
      ],
      "metadata": {
        "id": "TLwA1G-ht03Y"
      }
    },
    {
      "cell_type": "code",
      "execution_count": null,
      "metadata": {
        "id": "5jSOmwqytwtK"
      },
      "outputs": [],
      "source": [
        "#@markdown Install {pyqrcode} \n",
        "!pip install pyqrcode\n",
        "\n",
        "import pyqrcode\n",
        "from pyqrcode import QRCode\n"
      ]
    },
    {
      "cell_type": "markdown",
      "source": [
        "The survey link is specified in the code for DL survey. (asof 0605)"
      ],
      "metadata": {
        "id": "038F1hoSu72m"
      }
    },
    {
      "cell_type": "code",
      "source": [
        "#@markdown Display QR code\n",
        "s = \"https://forms.gle/Yq8vsyNMfvnbzjy87\"\n",
        "\n",
        "# Generate QR code\n",
        "url = pyqrcode.create(s)\n",
        "\n",
        "# Create and save the png file naming \"myqr.png\"\n",
        "url.svg(\"myqrcode.svg\", scale=10)\n",
        "\n",
        "from IPython.display import SVG, display\n",
        "def show_svg(file):\n",
        "    display(SVG(file))\n",
        "\n",
        "show_svg(\"myqrcode.svg\")"
      ],
      "metadata": {
        "cellView": "form",
        "id": "WWpBCxDLt-YW"
      },
      "execution_count": null,
      "outputs": []
    }
  ]
}