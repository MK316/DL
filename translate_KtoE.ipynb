{
  "nbformat": 4,
  "nbformat_minor": 0,
  "metadata": {
    "colab": {
      "private_outputs": true,
      "provenance": [],
      "authorship_tag": "ABX9TyO3yvIpL/28no2etAA6AlxV",
      "include_colab_link": true
    },
    "kernelspec": {
      "name": "python3",
      "display_name": "Python 3"
    },
    "language_info": {
      "name": "python"
    }
  },
  "cells": [
    {
      "cell_type": "markdown",
      "metadata": {
        "id": "view-in-github",
        "colab_type": "text"
      },
      "source": [
        "<a href=\"https://colab.research.google.com/github/MK316/DL/blob/main/translate_KtoE.ipynb\" target=\"_parent\"><img src=\"https://colab.research.google.com/assets/colab-badge.svg\" alt=\"Open In Colab\"/></a>"
      ]
    },
    {
      "cell_type": "markdown",
      "source": [
        "# Translate Korean to English in a dataframe"
      ],
      "metadata": {
        "id": "BxSofz975pFF"
      }
    },
    {
      "cell_type": "markdown",
      "source": [
        "+ Important Note: Text should not start with \"-\" bullet."
      ],
      "metadata": {
        "id": "rQPQTVX87XNJ"
      }
    },
    {
      "cell_type": "code",
      "execution_count": null,
      "metadata": {
        "id": "n09ibDlS33fW"
      },
      "outputs": [],
      "source": [
        "%%capture\n",
        "!pip install googletrans==4.0.0-rc1"
      ]
    },
    {
      "cell_type": "code",
      "source": [
        "import pandas as pd\n",
        "from googletrans import Translator, LANGUAGES"
      ],
      "metadata": {
        "id": "oWrj4H8u4ARx"
      },
      "execution_count": null,
      "outputs": []
    },
    {
      "cell_type": "markdown",
      "source": [
        "Temporary translator"
      ],
      "metadata": {
        "id": "Ypuf0mFz5xfM"
      }
    },
    {
      "cell_type": "code",
      "source": [
        "translator = Translator()\n"
      ],
      "metadata": {
        "id": "i2RNdpp14DAK"
      },
      "execution_count": null,
      "outputs": []
    },
    {
      "cell_type": "markdown",
      "source": [
        "Read a csv file from Colab folder"
      ],
      "metadata": {
        "id": "EbgnN-cD50xf"
      }
    },
    {
      "cell_type": "code",
      "source": [
        "import pandas as pd\n",
        "\n",
        "# Load the CSV file into a pandas DataFrame\n",
        "df = pd.read_csv('/content/essay2.csv')\n",
        "\n",
        "# Display the first few rows of the DataFrame\n",
        "print(df.head())\n"
      ],
      "metadata": {
        "id": "9VlRUSp94aMX"
      },
      "execution_count": null,
      "outputs": []
    },
    {
      "cell_type": "markdown",
      "source": [
        "Using Google translator, define a function and apply to df"
      ],
      "metadata": {
        "id": "IqQXRbgY541z"
      }
    },
    {
      "cell_type": "code",
      "source": [
        "# Translate function using googletrans\n",
        "def translate_text(text, dest_language=\"en\"):\n",
        "    try:\n",
        "        return translator.translate(text, dest=dest_language).text\n",
        "    except Exception as e: # Catches any translation error\n",
        "        print(\"Error:\", e)\n",
        "        return text # Returns the original text if translation fails\n",
        "\n",
        "# Apply the translate function to your dataframe\n",
        "df['text_in_english'] = df['text_in_korean'].apply(lambda x: translate_text(x))\n"
      ],
      "metadata": {
        "id": "DOYARyIk4Fc4"
      },
      "execution_count": null,
      "outputs": []
    },
    {
      "cell_type": "markdown",
      "source": [
        "display the result"
      ],
      "metadata": {
        "id": "u3VVOuOM6AoO"
      }
    },
    {
      "cell_type": "code",
      "source": [
        "print(df)\n"
      ],
      "metadata": {
        "id": "0R1GQaTK4Vc1"
      },
      "execution_count": null,
      "outputs": []
    },
    {
      "cell_type": "markdown",
      "source": [
        "Save the result file as 'sample.csv' on Colab folder"
      ],
      "metadata": {
        "id": "twKoLZOf6DFH"
      }
    },
    {
      "cell_type": "code",
      "source": [
        "df.to_csv('/content/sample2.csv', index=False, encoding='utf-8-sig')"
      ],
      "metadata": {
        "id": "Z_woCcIK6o-L"
      },
      "execution_count": null,
      "outputs": []
    }
  ]
}